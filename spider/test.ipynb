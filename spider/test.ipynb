{
 "cells": [
  {
   "cell_type": "code",
   "id": "initial_id",
   "metadata": {
    "collapsed": true,
    "ExecuteTime": {
     "end_time": "2024-06-07T14:36:08.944113Z",
     "start_time": "2024-06-07T14:36:00.983782Z"
    }
   },
   "source": [
    "\n",
    "import pandas as pd  \n",
    "import matplotlib.pyplot as plt  \n",
    "  \n",
    "# 假设你有一个CSV文件，其中包含了招聘数据  \n",
    "data_file = 'jobtemp.csv'  \n",
    "  \n",
    "# 加载数据  \n",
    "df = pd.read_csv(data_file)  \n",
    "  \n",
    "# 展示前几行数据以了解结构  \n",
    "print(df.head()) "
   ],
   "outputs": [
    {
     "name": "stdout",
     "output_type": "stream",
     "text": [
      "               title address type educational workExperience  \\\n",
      "0          美菜招聘供应链专员      常州  供应链          高中           经验不限   \n",
      "1  正沃投资管理有限公司招聘供应链经理      济南  供应链          大专           1-3年   \n",
      "2        御梵企业招聘供应链专员      苏州  供应链          大专           1-3年   \n",
      "3        昌立信息招聘供应链专员      杭州  供应链          大专           1-3年   \n",
      "4      长帆国际物流招聘供应链专员      中山  供应链          本科           1年以内   \n",
      "\n",
      "                                             workTag          salary  \\\n",
      "0  [\"\\u91c7\\u8d2d\\u5c65\\u7ea6\", \"\\u4f9b\\u5e94\\u94...    [4000, 5000]   \n",
      "1  [\"\\u751f\\u4ea7\\u5236\\u9020\\u578b\\u4f01\\u4e1a\",...  [10000, 15000]   \n",
      "2  [\"\\u7535\\u5546\\u884c\\u4e1a\\u7ecf\\u9a8c\", \"\\u71...    [6000, 8000]   \n",
      "3       [\"\\u9910\\u8865\", \"\\u5355\\u4f4d\\u4f53\\u68c0\"]    [6000, 8000]   \n",
      "4  [\"\\u4e09\\u65b9\\u7269\\u6d41\\u4f01\\u4e1a\", \"\\u8f...    [4000, 8000]   \n",
      "\n",
      "  salaryMonth                                        companyTags  hrWork  \\\n",
      "0          0薪                       [\"\\u4e94\\u9669\\u4e00\\u91d1\"]  大区招聘经理   \n",
      "1          0薪                                                  无    人事专员   \n",
      "2          0薪  [\"\\u5e74\\u7ec8\\u5956\", \"\\u5e26\\u85aa\\u5e74\\u50...    招聘经理   \n",
      "3          0薪  [\"\\u96f6\\u98df\\u4e0b\\u5348\\u8336\", \"\\u5168\\u52...  人事行政经理   \n",
      "4          0薪  [\"\\u5458\\u5de5\\u65c5\\u6e38\", \"\\u8282\\u65e5\\u79...      经理   \n",
      "\n",
      "  hrName  pratice companyTitle  \\\n",
      "0    祁女士        0           美菜   \n",
      "1    唐女士        0   正沃投资管理有限公司   \n",
      "2    金女士        0         御梵企业   \n",
      "3    沈女士        0         昌立信息   \n",
      "4    刘女士        0       长帆国际物流   \n",
      "\n",
      "                                       companyAvatar companyNature  \\\n",
      "0  https://img.bosszhipin.com/beijin/mcs/chatphot...          电子商务   \n",
      "1  https://img.bosszhipin.com/beijin/app/mobile/n...      食品/饮料/烟酒   \n",
      "2  https://img.bosszhipin.com/beijin/upload/com/w...            日化   \n",
      "3  https://img.bosszhipin.com/beijin/mcs/chatphot...          电子商务   \n",
      "4  https://img.bosszhipin.com/beijin/upload/com/w...         进出口贸易   \n",
      "\n",
      "  companyStatus companyPeople  \\\n",
      "0         D轮及以上    [0, 10000]   \n",
      "1           未融资    [100, 499]   \n",
      "2            B轮    [100, 499]   \n",
      "3         不需要融资    [100, 499]   \n",
      "4           未融资  [1000, 9999]   \n",
      "\n",
      "                                           detailUrl  \\\n",
      "0  https://www.zhipin.com/job_detail/76bcb606c5aa...   \n",
      "1  https://www.zhipin.com/job_detail/61d953dd3b4e...   \n",
      "2  https://www.zhipin.com/job_detail/cc0d7a6562fb...   \n",
      "3  https://www.zhipin.com/job_detail/813883499049...   \n",
      "4  https://www.zhipin.com/job_detail/bfee92c4adaa...   \n",
      "\n",
      "                                          companyUrl  dist  \n",
      "0  https://www.zhipin.com/gongsi/308b65efbdf6400a...   新北区  \n",
      "1  https://www.zhipin.com/gongsi/5f419cd882b1b42e...   NaN  \n",
      "2  https://www.zhipin.com/gongsi/0951d4111968f1e4...   相城区  \n",
      "3  https://www.zhipin.com/gongsi/7db30f6d69c93392...   滨江区  \n",
      "4  https://www.zhipin.com/gongsi/c4b9b473f6e449ce...  东区街道  \n"
     ]
    }
   ],
   "execution_count": 6
  },
  {
   "metadata": {
    "ExecuteTime": {
     "end_time": "2024-06-07T14:36:08.992113Z",
     "start_time": "2024-06-07T14:36:08.977112Z"
    }
   },
   "cell_type": "code",
   "source": [
    "df = df.dropna(subset=['salary', 'companyNature', 'position'])  \n",
    "df"
   ],
   "id": "7c00a134748168f3",
   "outputs": [],
   "execution_count": 6
  },
  {
   "metadata": {},
   "cell_type": "code",
   "outputs": [],
   "execution_count": null,
   "source": "",
   "id": "3e190716de823796"
  }
 ],
 "metadata": {
  "kernelspec": {
   "display_name": "Python 3",
   "language": "python",
   "name": "python3"
  },
  "language_info": {
   "codemirror_mode": {
    "name": "ipython",
    "version": 2
   },
   "file_extension": ".py",
   "mimetype": "text/x-python",
   "name": "python",
   "nbconvert_exporter": "python",
   "pygments_lexer": "ipython2",
   "version": "2.7.6"
  }
 },
 "nbformat": 4,
 "nbformat_minor": 5
}
